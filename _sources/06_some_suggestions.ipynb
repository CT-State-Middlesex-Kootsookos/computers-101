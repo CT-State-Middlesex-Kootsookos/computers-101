{
 "cells": [
  {
   "cell_type": "markdown",
   "id": "e2b18f51",
   "metadata": {},
   "source": [
    "# Some Suggestions\n",
    "\n",
    "\n",
    "## Magnification and Accessibility Tools\n",
    "\n",
    "Apart from [the earlier suggestions](05_how_can_i_help.html#make-the-text-bigger), there are apps like [ZoomText](https://support.freedomscientific.com/Downloads/ZoomText) and [VoiceOver](https://support.apple.com/guide/iphone/use-voiceover-in-apps-iphe4ee74be8/ios) on iOS that improve visual and audio accessibility.  The Android equivalent seems to be called [TalkBack](https://support.google.com/accessibility/android/answer/6006564?hl=en#use_screen_reader).\n",
    "\n",
    "\n",
    "## Different Launchers\n",
    "\n",
    "For the visually impared, increasing the size of the icons on a phone's home screen can be done using [BIG Launcher](http://biglauncher.com/) on Android. Still looking for a good suggestion for iOS."
   ]
  }
 ],
 "metadata": {
  "jupytext": {
   "formats": "ipynb,md:myst",
   "text_representation": {
    "extension": ".md",
    "format_name": "myst",
    "format_version": 0.13,
    "jupytext_version": "1.14.1"
   }
  },
  "kernelspec": {
   "display_name": "Python 3 (ipykernel)",
   "language": "python",
   "name": "python3"
  },
  "language_info": {
   "codemirror_mode": {
    "name": "ipython",
    "version": 3
   },
   "file_extension": ".py",
   "mimetype": "text/x-python",
   "name": "python",
   "nbconvert_exporter": "python",
   "pygments_lexer": "ipython3",
   "version": "3.9.13"
  },
  "source_map": [
   13
  ]
 },
 "nbformat": 4,
 "nbformat_minor": 5
}