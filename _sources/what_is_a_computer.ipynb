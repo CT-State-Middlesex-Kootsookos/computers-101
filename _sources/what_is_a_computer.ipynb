{
 "cells": [
  {
   "cell_type": "markdown",
   "id": "fcf6561d",
   "metadata": {},
   "source": [
    "# What is a computer?\n",
    "\n",
    "A computer is any electronic device that stores and processes information: a desktop, a laptop, a cell phone, or a tablet. Some computers are \"embedded\" like Alexa or Google Home. Embedded computers are part of the \"internet of things\" (IOT).\n",
    "\n",
    "A computer consists of:\n",
    "\n",
    "- A **screen** or display to allow text, images, and colors to be shown,\n",
    "\n",
    "```{index} screen\n",
    "\n",
    "```\n",
    "\n",
    "```{image} ./images/screen.jpg\n",
    ":alt: display\n",
    ":width: 300px\n",
    ":align: center\n",
    "```\n",
    "\n",
    "- A **keyboard** to allow text to be entered,\n",
    "\n",
    "```{index} keyboard\n",
    "\n",
    "```\n",
    "\n",
    "```{image} ./images/keyboard.jpg\n",
    ":alt: keyboard\n",
    ":width: 300px\n",
    ":align: center\n",
    "```\n",
    "\n",
    "- A **mouse** or other pointing device to allow selection of things on the screen,\n",
    "\n",
    "```{index} mouse\n",
    "\n",
    "```\n",
    "\n",
    "```{image} ./images/mouse.jpg\n",
    ":alt: mouse\n",
    ":width: 300px\n",
    ":align: center\n",
    "```\n",
    "\n",
    "- A **case** to hold it all together, and\n",
    "\n",
    "```{index} case\n",
    "\n",
    "```\n",
    "\n",
    "- Other **[peripherals](glossary.html#term-peripheral)** like USB ports, ethernet, microphone.\n",
    "\n",
    "```{index} USB\n",
    "\n",
    "```\n",
    "\n",
    "## References\n",
    "\n",
    "```{bibliography} ./references.bib\n",
    ":filter: docname in docnames\n",
    "```"
   ]
  }
 ],
 "metadata": {
  "jupytext": {
   "formats": "ipynb,md:myst",
   "text_representation": {
    "extension": ".md",
    "format_name": "myst",
    "format_version": 0.13,
    "jupytext_version": "1.14.1"
   }
  },
  "kernelspec": {
   "display_name": "Python 3 (ipykernel)",
   "language": "python",
   "name": "python3"
  },
  "language_info": {
   "codemirror_mode": {
    "name": "ipython",
    "version": 3
   },
   "file_extension": ".py",
   "mimetype": "text/x-python",
   "name": "python",
   "nbconvert_exporter": "python",
   "pygments_lexer": "ipython3",
   "version": "3.9.13"
  },
  "source_map": [
   13
  ]
 },
 "nbformat": 4,
 "nbformat_minor": 5
}