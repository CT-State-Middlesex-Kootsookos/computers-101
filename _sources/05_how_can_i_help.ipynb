{
 "cells": [
  {
   "cell_type": "markdown",
   "id": "e236f8a1",
   "metadata": {},
   "source": [
    "# How can I help?\n",
    "\n",
    "This section is more about how to help people with computers than about computers themselves. It collates some information that I've gleaned from helping people who are less familiar with technology at hand than I am.\n",
    "\n",
    "## Take time to understand\n",
    "\n",
    "The most important thing to remember is that the person you are helping deserves respect, but is probably frustrated by their inability to do something with the technology. Spend time understanding what they are trying to do and what they have done to try to do it.\n",
    "\n",
    "Often, the person has tried the right steps to achieve what they want, but perhaps in the wrong order. Or perhaps they've left out a crucial step.\n",
    "\n",
    "**Take time to understand the problem and the person you're talking to.**\n",
    "\n",
    "## Apply all updates\n",
    "\n",
    "Computers and other devices get many, many updates.  Sometimes, when an update is pending on a computer or device, the device stops working correctly.  This may not be obvious, so know how to find where updates are applied.\n",
    "\n",
    "* For Microsoft Windows, see {cite:ts}`windows_updates`.\n",
    "* For Apple MacOS, see {cite:ts}`macos_updates`.\n",
    "\n",
    "**Apply all updates.**\n",
    "\n",
    "## Have you tried...\n",
    "\n",
    "There is a well-known joke in IT circles that comes from the show [*The IT Crowd*](https://en.wikipedia.org/wiki/The_IT_Crowd).  The joke is that the first thing the IT help desk asks you is: \n",
    "\n",
    "*Have you tried turning it off and back on again?*\n",
    "\n",
    "Unfortunately, this joke is funny because it's often true.\n",
    "\n",
    "Turn off the computer. Perhaps even unplug it if that's easy to do. Wait for at least 30 seconds.  Check that all lights and LEDs are out. Plug the computer back in and turn it on again.\n",
    "\n",
    "**Restart the computer.**\n",
    "\n",
    "## Check the cables\n",
    "\n",
    "## Check the paper\n",
    "\n",
    "## Check the settings\n",
    "\n",
    "## Driving a computer\n",
    "\n",
    "### Make the text BIGGER\n",
    "\n",
    "### Make the volume louder\n",
    "\n",
    "### What is using the sound?"
   ]
  }
 ],
 "metadata": {
  "jupytext": {
   "formats": "ipynb,md:myst",
   "text_representation": {
    "extension": ".md",
    "format_name": "myst",
    "format_version": 0.13,
    "jupytext_version": "1.14.1"
   }
  },
  "kernelspec": {
   "display_name": "Python 3 (ipykernel)",
   "language": "python",
   "name": "python3"
  },
  "language_info": {
   "codemirror_mode": {
    "name": "ipython",
    "version": 3
   },
   "file_extension": ".py",
   "mimetype": "text/x-python",
   "name": "python",
   "nbconvert_exporter": "python",
   "pygments_lexer": "ipython3",
   "version": "3.9.13"
  },
  "source_map": [
   13
  ]
 },
 "nbformat": 4,
 "nbformat_minor": 5
}