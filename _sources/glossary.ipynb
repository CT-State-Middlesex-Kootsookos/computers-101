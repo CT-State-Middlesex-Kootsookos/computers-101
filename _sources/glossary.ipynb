{
 "cells": [
  {
   "cell_type": "markdown",
   "id": "8d9543ef",
   "metadata": {},
   "source": [
    "# Glossary\n",
    "\n",
    "```{glossary}\n",
    "case\n",
    "  A case is the box that all the parts of the computer are kept in.\n",
    "\n",
    "cybersecurity\n",
    "  Cybersecurity is what you do on a computer to implement [security](#term-security).\n",
    "\n",
    "display\n",
    "  See [screen](#term-screen).\n",
    "\n",
    "internet\n",
    "  The internet is the network of networks connecting computers with each other.\n",
    "\n",
    "internet of things\n",
    "  The internet of things describes how many mundane things now have computers in them and need to be connected to the internet.\n",
    "\n",
    "IOT\n",
    "  The [Internet Of Things](#term-internet-of-things).\n",
    "\n",
    "mouse\n",
    "  A mouse is pointing device used to move the onscreen cursor around. Sometimes this takes the form of a touchpad or trackpad built into a laptop instead of a separate device.  Some computers have touch sensitive screens so this function can be done using your fingers.\n",
    "\n",
    "peripheral\n",
    "  A peripheral is an added component to a computer. Examples of peripherals are external drives, web cameras, printers, and scanners.\n",
    "\n",
    "security\n",
    "  Security is what you do to protect yourself, your loved ones, your information, and your things.\n",
    "\n",
    "screen\n",
    "  The screen is that part of the computer that shows text, pictures, and colors.\n",
    "\n",
    "touchpad\n",
    "  See [mouse](#term-mouse).\n",
    "\n",
    "trackpad\n",
    "  See [mouse](#term-mouse).\n",
    "\n",
    "USB\n",
    "  USB stands for Universal Serial Bus.  This is a way for computers to be extended. This includes more permanent storage, a different keyboard, or other [peripherals](#term-peripheral). There are many different sorts of USB connectors {cite:ts}`usbhardware`.\n",
    "\n",
    "```"
   ]
  }
 ],
 "metadata": {
  "jupytext": {
   "formats": "ipynb,md:myst",
   "text_representation": {
    "extension": ".md",
    "format_name": "myst",
    "format_version": 0.13,
    "jupytext_version": "1.14.1"
   }
  },
  "kernelspec": {
   "display_name": "Python 3 (ipykernel)",
   "language": "python",
   "name": "python3"
  },
  "language_info": {
   "codemirror_mode": {
    "name": "ipython",
    "version": 3
   },
   "file_extension": ".py",
   "mimetype": "text/x-python",
   "name": "python",
   "nbconvert_exporter": "python",
   "pygments_lexer": "ipython3",
   "version": "3.9.13"
  },
  "source_map": [
   13
  ]
 },
 "nbformat": 4,
 "nbformat_minor": 5
}