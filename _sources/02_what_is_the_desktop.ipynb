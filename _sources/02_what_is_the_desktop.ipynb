{
 "cells": [
  {
   "cell_type": "markdown",
   "id": "e3c12fcd",
   "metadata": {},
   "source": [
    "# What is the desktop?\n",
    "\n",
    "When a computer finishes starting up, what is seen is the [desktop](glossary.html/#desktop).\n",
    "\n",
    "Each operating system is a bit different, but they all have a desktop or home screen. The operating systems that are most familiar are Apple's MacOS, Microsoft's Winodws, Apple's iOS, and Google's Android.\n",
    "\n",
    "## Apple Computer, Microsoft Computer, Apple Phone Desktops\n",
    "\n",
    "The Apple computer desktop looks like this.\n",
    "\n",
    "```{image} ./images/desktop_macos.png\n",
    ":alt: Apple computer desktop.\n",
    ":width: 75%\n",
    ":align: center\n",
    "```\n",
    "\n",
    "The Windows computer desktop looks like this.\n",
    "\n",
    "```{image} ./images/desktop_windows.png\n",
    ":alt: Windows desktop.\n",
    ":width: 75%\n",
    ":align: center\n",
    "```\n",
    "\n",
    "The Apple phone home screen looks like this.\n",
    "\n",
    "```{image} ./images/desktop_ios.jpg\n",
    ":alt: Apple phone home screen.\n",
    ":width: 75%\n",
    ":align: center\n",
    "```\n",
    "\n",
    "## Parts of a desktop\n",
    "\n",
    "Despite being created by different companies on different computers, there are some parts of a desktop that are similar: The task bar or dock and the icons used.\n",
    "\n",
    "### Task Bar (Windows) or Dock (Apple)\n",
    "\n",
    "The task bar or dock is where apps are where the most-used functions of a computer are usually accessed.\n",
    "\n",
    "```{image} ./images/task_bar_windows.png\n",
    ":alt: Windows task bar.\n",
    ":width: 75%\n",
    ":align: center\n",
    "```\n",
    "\n",
    "```{image} ./images/task_bar_macos.png\n",
    ":alt: MacOS task bar.\n",
    ":width: 75%\n",
    ":align: center\n",
    "```"
   ]
  }
 ],
 "metadata": {
  "jupytext": {
   "formats": "ipynb,md:myst",
   "text_representation": {
    "extension": ".md",
    "format_name": "myst",
    "format_version": 0.13,
    "jupytext_version": "1.14.1"
   }
  },
  "kernelspec": {
   "display_name": "Python 3 (ipykernel)",
   "language": "python",
   "name": "python3"
  },
  "language_info": {
   "codemirror_mode": {
    "name": "ipython",
    "version": 3
   },
   "file_extension": ".py",
   "mimetype": "text/x-python",
   "name": "python",
   "nbconvert_exporter": "python",
   "pygments_lexer": "ipython3",
   "version": "3.9.13"
  },
  "source_map": [
   13
  ]
 },
 "nbformat": 4,
 "nbformat_minor": 5
}